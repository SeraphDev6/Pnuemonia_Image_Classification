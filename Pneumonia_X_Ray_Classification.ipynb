{
  "nbformat": 4,
  "nbformat_minor": 0,
  "metadata": {
    "colab": {
      "name": "Pneumonia X-Ray Classification.ipynb",
      "provenance": [],
      "authorship_tag": "ABX9TyN3U+3pHlOy/zARoh2OvWJW",
      "include_colab_link": true
    },
    "kernelspec": {
      "name": "python3",
      "display_name": "Python 3"
    },
    "language_info": {
      "name": "python"
    }
  },
  "cells": [
    {
      "cell_type": "markdown",
      "metadata": {
        "id": "view-in-github",
        "colab_type": "text"
      },
      "source": [
        "<a href=\"https://colab.research.google.com/github/SeraphDev6/Pnuemonia_Image_Classification/blob/main/Pneumonia_X_Ray_Classification.ipynb\" target=\"_parent\"><img src=\"https://colab.research.google.com/assets/colab-badge.svg\" alt=\"Open In Colab\"/></a>"
      ]
    },
    {
      "cell_type": "markdown",
      "source": [
        "# Pneumonia Classification by Wesley Giles"
      ],
      "metadata": {
        "id": "7jMhtn6PKDq3"
      }
    },
    {
      "cell_type": "markdown",
      "source": [
        "## Data Citation\n",
        "Data: https://data.mendeley.com/datasets/rscbjbr9sj/2\n",
        "\n",
        "License: CC BY 4.0\n",
        "\n",
        "Citation: http://www.cell.com/cell/fulltext/S0092-8674(18)30154-5"
      ],
      "metadata": {
        "id": "Eja-U3trKMMs"
      }
    },
    {
      "cell_type": "markdown",
      "source": [
        "## Load data and necessary modules"
      ],
      "metadata": {
        "id": "ykErWnAmKffb"
      }
    },
    {
      "cell_type": "code",
      "execution_count": 29,
      "metadata": {
        "colab": {
          "base_uri": "https://localhost:8080/"
        },
        "id": "gQWFX8f7J5ko",
        "outputId": "e1d588a2-12ba-4d98-e1a8-24041f73d5e8"
      },
      "outputs": [
        {
          "output_type": "stream",
          "name": "stdout",
          "text": [
            "chest-xray-pneumonia.zip: Skipping, found more recently modified local copy (use --force to force download)\n",
            "Archive:  chest-xray-pneumonia.zip\n",
            "replace chest_xray/__MACOSX/._chest_xray? [y]es, [n]o, [A]ll, [N]one, [r]ename: N\n"
          ]
        }
      ],
      "source": [
        "! chmod 600 /root/.kaggle/kaggle.json\n",
        "! kaggle datasets download -d paultimothymooney/chest-xray-pneumonia\n",
        "! unzip chest-xray-pneumonia.zip"
      ]
    },
    {
      "cell_type": "code",
      "source": [
        "try:\n",
        "  %tensorflow_version 2.x\n",
        "except Exception:\n",
        "  pass\n",
        "import tensorflow as tf\n",
        "from tensorflow import keras\n",
        "import pandas as pd\n",
        "import matplotlib.pyplot as plt\n",
        "import os"
      ],
      "metadata": {
        "id": "xZJ2eiW_OM3e"
      },
      "execution_count": 30,
      "outputs": []
    },
    {
      "cell_type": "code",
      "source": [
        "image_gen = keras.preprocessing.image.ImageDataGenerator(rescale = 1.0/255)\n",
        "\n",
        "train_gen = image_gen.flow_from_directory(\"/content/chest_xray/train/\",\n",
        "                                          class_mode = \"sparse\",\n",
        "                                          classes=[\"NORMAL\",\"PNEUMONIA\"])\n",
        "test_gen = image_gen.flow_from_directory(\"/content/chest_xray/test/\",\n",
        "                                          class_mode = \"sparse\",\n",
        "                                          classes=[\"NORMAL\",\"PNEUMONIA\"])\n",
        "val_gen = image_gen.flow_from_directory(\"/content/chest_xray/val/\",\n",
        "                                          class_mode = \"sparse\",\n",
        "                                          classes=[\"NORMAL\",\"PNEUMONIA\"])"
      ],
      "metadata": {
        "colab": {
          "base_uri": "https://localhost:8080/"
        },
        "id": "YqVBHYbaQDNU",
        "outputId": "3074fa13-b862-459a-f86a-bd36e848cbac"
      },
      "execution_count": 31,
      "outputs": [
        {
          "output_type": "stream",
          "name": "stdout",
          "text": [
            "Found 5216 images belonging to 2 classes.\n",
            "Found 624 images belonging to 2 classes.\n",
            "Found 16 images belonging to 2 classes.\n"
          ]
        }
      ]
    },
    {
      "cell_type": "markdown",
      "source": [
        "## Lets take a look at the balance of the train data"
      ],
      "metadata": {
        "id": "hZwgKbR7afyW"
      }
    },
    {
      "cell_type": "code",
      "source": [
        "def get_file_counts(root):\n",
        "  di = {}\n",
        "  for dir in [d for d in os.listdir(root) if os.path.isdir(os.path.join(root,d))]:\n",
        "    di[dir] = len([f for f in os.listdir(os.path.join(root,dir)) if os.path.isfile(os.path.join(root,dir,f))])\n",
        "  return di\n",
        "get_file_counts(\"/content/chest_xray/train/\")"
      ],
      "metadata": {
        "colab": {
          "base_uri": "https://localhost:8080/"
        },
        "id": "0aJylEtNZs8G",
        "outputId": "08e74902-3646-4f61-f46d-56a902af7d13"
      },
      "execution_count": 32,
      "outputs": [
        {
          "output_type": "execute_result",
          "data": {
            "text/plain": [
              "{'NORMAL': 1341, 'PNEUMONIA': 3875}"
            ]
          },
          "metadata": {},
          "execution_count": 32
        }
      ]
    },
    {
      "cell_type": "code",
      "source": [
        "def get_bal_chart(root,title = None):\n",
        "  bal = pd.DataFrame.from_dict(get_file_counts(root), orient = \"index\")\n",
        "  bal.plot.bar()\n",
        "  plt.gca().set_xlabel(\"Image Class\")\n",
        "  plt.gca().set_ylabel(\"Image Count\")\n",
        "  plt.gca().set_xticklabels(plt.gca().get_xticklabels(), rotation = 0)\n",
        "  if title:\n",
        "    plt.gca().set_title(title)\n",
        "  plt.show()\n",
        "get_bal_chart(\"/content/chest_xray/train/\")"
      ],
      "metadata": {
        "colab": {
          "base_uri": "https://localhost:8080/",
          "height": 280
        },
        "id": "UBP5Rj1R2eAN",
        "outputId": "22106ea4-65b5-4084-8ccb-04650eab12d0"
      },
      "execution_count": 39,
      "outputs": [
        {
          "output_type": "display_data",
          "data": {
            "text/plain": [
              "<Figure size 432x288 with 1 Axes>"
            ],
            "image/png": "[encoded data removed]"
          },
          "metadata": {
            "needs_background": "light"
          }
        }
      ]
    },
    {
      "cell_type": "markdown",
      "source": [
        "## Seems we have significantly more Pnuemonia images than normal in this dataset, lets check test and val to ensure the same balance is in those sets"
      ],
      "metadata": {
        "id": "4YJgUopY4jFQ"
      }
    },
    {
      "cell_type": "code",
      "source": [
        "get_bal_chart(\"/content/chest_xray/test/\", \"Test\")\n",
        "get_bal_chart(\"/content/chest_xray/val/\", \"Val\")"
      ],
      "metadata": {
        "colab": {
          "base_uri": "https://localhost:8080/",
          "height": 573
        },
        "id": "SmHADtH05YlK",
        "outputId": "79cebf03-cb80-48af-c5d0-e2530f1c609f"
      },
      "execution_count": 41,
      "outputs": [
        {
          "output_type": "display_data",
          "data": {
            "text/plain": [
              "<Figure size 432x288 with 1 Axes>"
            ],
            "image/png": "[encoded data removed]"
          },
          "metadata": {
            "needs_background": "light"
          }
        },
        {
          "output_type": "display_data",
          "data": {
            "text/plain": [
              "<Figure size 432x288 with 1 Axes>"
            ],
            "image/png": "[encoded data removed]"
          },
          "metadata": {
            "needs_background": "light"
          }
        }
      ]
    },
    {
      "cell_type": "markdown",
      "source": [
        "## While not perfectly balanced, both the train and test are skewed towards the positive indicator, which will allow us to more accurately predict Pnuemonia."
      ],
      "metadata": {
        "id": "NHTnZmzo50d6"
      }
    }
  ]
}